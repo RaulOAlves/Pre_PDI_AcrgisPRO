{
 "cells": [
  {
   "cell_type": "code",
   "execution_count": 23,
   "metadata": {},
   "outputs": [],
   "source": [
    "#Importando as bibliotecas\n",
    "import arcpy\n",
    "from arcpy import env\n",
    "import os\n",
    "from arcpy.ia import *\n",
    "env.overwriteOutput = True"
   ]
  },
  {
   "cell_type": "code",
   "execution_count": 2,
   "metadata": {},
   "outputs": [],
   "source": [
    "#Diretórios\n",
    "#Primeira coisa é criar o workspace do GDB para quando for exportar algo já adicionar nele\n",
    "workspace1 = r\"E:\\Cursos\\GeoAI\\GeoAI_02\\GeoAI_02\\GeoAI_02.gdb\"\n",
    "#Uma pasta dentro do diretório que estou trabalhando\n",
    "workspace2 = r\"E:\\Cursos\\GeoAI\\GeoAI_02\\GeoAI_02\""
   ]
  },
  {
   "cell_type": "code",
   "execution_count": 3,
   "metadata": {},
   "outputs": [],
   "source": [
    "#Diretório com as imagens\n",
    "imagem_dir = r\"E:\\Cursos\\GeoAI\\GeoAI_02\\Imagens\"\n",
    "\n",
    "#Bandas para tratar\n",
    "\n",
    "banda0 = os.path.join(imagem_dir,'CBERS_4A_WPM_20210727_211_115_L4_BAND0.tif')\n",
    "banda1 = os.path.join(imagem_dir,'CBERS_4A_WPM_20210727_211_115_L4_BAND1.tif')\n",
    "banda2 = os.path.join(imagem_dir,'CBERS_4A_WPM_20210727_211_115_L4_BAND2.tif')\n",
    "banda3 = os.path.join(imagem_dir,'CBERS_4A_WPM_20210727_211_115_L4_BAND3.tif')\n",
    "banda4 = os.path.join(imagem_dir,'CBERS_4A_WPM_20210727_211_115_L4_BAND4.tif')"
   ]
  },
  {
   "cell_type": "markdown",
   "metadata": {},
   "source": [
    "Eliminar Ruído"
   ]
  },
  {
   "cell_type": "code",
   "execution_count": 4,
   "metadata": {},
   "outputs": [],
   "source": [
    "#Diretório do filtro de ruído\n",
    "focal1 = os.path.join(workspace2, \"focal_lost_banda3.tif\")"
   ]
  },
  {
   "cell_type": "code",
   "execution_count": 5,
   "metadata": {},
   "outputs": [],
   "source": [
    "#Realizar a correção de Ruído\n",
    "with arcpy.EnvManager(scratchWorkspace=workspace2, workspace=workspace2):\n",
    "    out_raster = arcpy.ia.FocalStatistics(banda3, \"Rectangle 3 3 CELL\",\"MEAN\",\"DATA\", 90); out_raster.save(focal1)"
   ]
  },
  {
   "cell_type": "markdown",
   "metadata": {},
   "source": [
    "Corrigir erro geométrico"
   ]
  },
  {
   "cell_type": "code",
   "execution_count": 31,
   "metadata": {},
   "outputs": [
    {
     "data": {
      "text/html": [
       "<div class='gpresult'><h2>Messages</h2><div id='messages' data-messages='[\"Start Time: segunda-feira, 20 de fevereiro de 2023 20:56:15\",\"Succeeded at segunda-feira, 20 de fevereiro de 2023 20:56:28 (Elapsed Time: 12,78 seconds)\"]' data-show='true'><div id = 'default' /></div></div>"
      ],
      "text/plain": [
       "<Result ''>"
      ]
     },
     "execution_count": 31,
     "metadata": {},
     "output_type": "execute_result"
    }
   ],
   "source": [
    "#Realizar a correção geométrica\n",
    "arcpy.management.RegisterRaster(banda1,\n",
    "                               \"REGISTER\",\n",
    "                               \"World Imagery\",\n",
    "                               None,\n",
    "                               'POLYSIMILARITY',\n",
    "                               None,\n",
    "                               None)\n"
   ]
  },
  {
   "cell_type": "code",
   "execution_count": 33,
   "metadata": {},
   "outputs": [
    {
     "data": {
      "text/html": [
       "<div class='gpresult'><h2>Messages</h2><div id='messages' data-messages='[\"Start Time: segunda-feira, 20 de fevereiro de 2023 20:57:14\",\"Succeeded at segunda-feira, 20 de fevereiro de 2023 20:58:10 (Elapsed Time: 55,84 seconds)\"]' data-show='true'><div id = 'default' /></div></div>"
      ],
      "text/plain": [
       "<Result ''>"
      ]
     },
     "execution_count": 33,
     "metadata": {},
     "output_type": "execute_result"
    }
   ],
   "source": [
    "arcpy.management.RegisterRaster(banda0,\n",
    "                               \"REGISTER\",\n",
    "                               banda1,\n",
    "                               None,\n",
    "                               'POLYSIMILARITY',\n",
    "                               None,\n",
    "                               None)"
   ]
  },
  {
   "cell_type": "code",
   "execution_count": 34,
   "metadata": {},
   "outputs": [
    {
     "data": {
      "text/html": [
       "<div class='gpresult'><h2>Messages</h2><div id='messages' data-messages='[\"Start Time: segunda-feira, 20 de fevereiro de 2023 20:58:11\",\"Succeeded at segunda-feira, 20 de fevereiro de 2023 20:58:15 (Elapsed Time: 4,44 seconds)\"]' data-show='true'><div id = 'default' /></div></div>"
      ],
      "text/plain": [
       "<Result ''>"
      ]
     },
     "execution_count": 34,
     "metadata": {},
     "output_type": "execute_result"
    }
   ],
   "source": [
    "arcpy.management.RegisterRaster(banda2,\n",
    "                               \"REGISTER\",\n",
    "                               banda1,\n",
    "                               None,\n",
    "                               'POLYSIMILARITY',\n",
    "                               None,\n",
    "                               None)"
   ]
  },
  {
   "cell_type": "code",
   "execution_count": 35,
   "metadata": {},
   "outputs": [
    {
     "data": {
      "text/html": [
       "<div class='gpresult'><h2>Messages</h2><div id='messages' data-messages='[\"Start Time: segunda-feira, 20 de fevereiro de 2023 20:58:16\",\"Succeeded at segunda-feira, 20 de fevereiro de 2023 20:58:22 (Elapsed Time: 6,81 seconds)\"]' data-show='true'><div id = 'default' /></div></div>"
      ],
      "text/plain": [
       "<Result ''>"
      ]
     },
     "execution_count": 35,
     "metadata": {},
     "output_type": "execute_result"
    }
   ],
   "source": [
    "arcpy.management.RegisterRaster(banda3,\n",
    "                               \"REGISTER\",\n",
    "                               banda1,\n",
    "                               None,\n",
    "                               'POLYSIMILARITY',\n",
    "                               None,\n",
    "                               None)"
   ]
  },
  {
   "cell_type": "code",
   "execution_count": 36,
   "metadata": {},
   "outputs": [
    {
     "data": {
      "text/html": [
       "<div class='gpresult'><h2>Messages</h2><div id='messages' data-messages='[\"Start Time: segunda-feira, 20 de fevereiro de 2023 20:58:23\",\"Succeeded at segunda-feira, 20 de fevereiro de 2023 20:58:30 (Elapsed Time: 7,62 seconds)\"]' data-show='true'><div id = 'default' /></div></div>"
      ],
      "text/plain": [
       "<Result ''>"
      ]
     },
     "execution_count": 36,
     "metadata": {},
     "output_type": "execute_result"
    }
   ],
   "source": [
    "arcpy.management.RegisterRaster(banda4,\n",
    "                               \"REGISTER\",\n",
    "                               banda1,\n",
    "                               None,\n",
    "                               'POLYSIMILARITY',\n",
    "                               None,\n",
    "                               None)"
   ]
  },
  {
   "cell_type": "markdown",
   "metadata": {},
   "source": [
    "Corrigir o Histograma"
   ]
  },
  {
   "cell_type": "code",
   "execution_count": 13,
   "metadata": {
    "collapsed": true
   },
   "outputs": [
    {
     "data": {
      "text/html": [
       "<div class='gpresult'><h2>Messages</h2><div id='messages' data-messages='[\"Start Time: segunda-feira, 13 de fevereiro de 2023 13:30:16\",\"Succeeded at segunda-feira, 13 de fevereiro de 2023 13:30:21 (Elapsed Time: 5,31 seconds)\"]' data-show='true'><div id = 'default' /></div></div>"
      ],
      "text/plain": [
       "<Result 'E:\\\\Cursos\\\\GeoAI\\\\GeoAI_02\\\\Imagens\\\\CBERS_4A_WPM_20210727_211_115_L4_BAND3.tif'>"
      ]
     },
     "execution_count": 13,
     "metadata": {},
     "output_type": "execute_result"
    }
   ],
   "source": [
    "#Calcular estatísticas\n",
    "arcpy.management.CalculateStatistics(banda3, 1, 1, [], \"OVERWRITE\", r'in_memory\\feature')"
   ]
  },
  {
   "cell_type": "code",
   "execution_count": 7,
   "metadata": {},
   "outputs": [],
   "source": [
    "#Diretório de Histogramas\n",
    "histnew = os.path.join(workspace2, \"new_hist.tif\")\n",
    "\n",
    "#Realizar realce histograma\n",
    "StatisticsHistogram_raster = arcpy.ia.StatisticsHistogram(banda3, [61,214,121.96,1.0], None)\n",
    "StatisticsHistogram_raster.save(histnew)"
   ]
  },
  {
   "cell_type": "markdown",
   "metadata": {},
   "source": [
    "Realizar operação entre bandas"
   ]
  },
  {
   "cell_type": "code",
   "execution_count": 37,
   "metadata": {},
   "outputs": [],
   "source": [
    "#Realizar operação aritmética\n",
    "\n",
    "calculate = os.path.join(workspace2, 'NDVI.tif')\n",
    "\n",
    "calculate_rastes = RasterCalculator([banda4,banda1], ['x','y'], '(x-y)/(x+y)')\n",
    "calculate_rastes.save(calculate)"
   ]
  },
  {
   "cell_type": "markdown",
   "metadata": {},
   "source": [
    "Realizar a composição das bandas"
   ]
  },
  {
   "cell_type": "code",
   "execution_count": 38,
   "metadata": {},
   "outputs": [],
   "source": [
    "#Diretório da composição\n",
    "\n",
    "composicao_output = os.path.join(workspace2, 'composicao_output.tif')"
   ]
  },
  {
   "cell_type": "code",
   "execution_count": 39,
   "metadata": {},
   "outputs": [
    {
     "data": {
      "text/html": [
       "<div class='gpresult'><h2>Messages</h2><div id='messages' data-messages='[\"Start Time: segunda-feira, 20 de fevereiro de 2023 21:07:00\",\"Succeeded at segunda-feira, 20 de fevereiro de 2023 21:08:31 (Elapsed Time: 1 minutes 30 seconds)\"]' data-show='true'><div id = 'default' /></div></div>"
      ],
      "text/plain": [
       "<Result 'E:\\\\Cursos\\\\GeoAI\\\\GeoAI_02\\\\GeoAI_02\\\\composicao_output.tif'>"
      ]
     },
     "execution_count": 39,
     "metadata": {},
     "output_type": "execute_result"
    }
   ],
   "source": [
    "#Bandas para composição\n",
    "composicao = r'{};{};{}'.format(banda3,banda2,banda1)\n",
    "\n",
    "#Realizar a composição das bandas\n",
    "arcpy.management.CompositeBands(composicao, composicao_output)"
   ]
  },
  {
   "cell_type": "markdown",
   "metadata": {},
   "source": [
    "Transformar as cores"
   ]
  },
  {
   "cell_type": "code",
   "execution_count": 40,
   "metadata": {},
   "outputs": [],
   "source": [
    "#Diretório das operação aritmética\n",
    "\n",
    "conver_color = os.path.join(workspace2, 'composicao_hsv_3bands.tif')"
   ]
  },
  {
   "cell_type": "code",
   "execution_count": 41,
   "metadata": {},
   "outputs": [],
   "source": [
    "#Realizar a transformação de cores\n",
    "out_hsv_3bands = ColorspaceConversion(composicao_output,'rgb_to_hsv')\n",
    "out_hsv_3bands.save(conver_color)"
   ]
  },
  {
   "cell_type": "markdown",
   "metadata": {},
   "source": [
    "Realizar a fusão de bandas"
   ]
  },
  {
   "cell_type": "code",
   "execution_count": 42,
   "metadata": {},
   "outputs": [
    {
     "data": {
      "text/html": [
       "<div class='gpresult'><h2>Messages</h2><div id='messages' data-messages='[\"Start Time: segunda-feira, 20 de fevereiro de 2023 21:11:36\",\"Succeeded at segunda-feira, 20 de fevereiro de 2023 21:41:20 (Elapsed Time: 29 minutes 43 seconds)\"]' data-show='true'><div id = 'default' /></div></div>"
      ],
      "text/plain": [
       "<Result 'E:\\\\Cursos\\\\GeoAI\\\\GeoAI_02\\\\GeoAI_02\\\\Pansharpene.tif'>"
      ]
     },
     "execution_count": 42,
     "metadata": {},
     "output_type": "execute_result"
    }
   ],
   "source": [
    "#Diretório do Pansharnepe\n",
    "pan_output = os.path.join(workspace2, 'Pansharpene.tif')\n",
    "\n",
    "#Realizar o pansharpene\n",
    "arcpy.management.CreatePansharpenedRasterDataset('composicao_output.tif',\n",
    "                                                1,2,3,4,\n",
    "                                                pan_output,\n",
    "                                                banda0,\n",
    "                                                'Gram-Schmidt',\n",
    "                                                0.166,0.167,0.167, 0.5,\n",
    "                                                'UNKNOWN')"
   ]
  },
  {
   "cell_type": "markdown",
   "metadata": {},
   "source": [
    "Realizar Filtragem\n",
    "\n",
    "* Passa baixa - Ressalta as estruturas maiores na imagem;\n",
    "* Passa alta - Ressalta as estruturas menores na imagem."
   ]
  },
  {
   "cell_type": "code",
   "execution_count": 43,
   "metadata": {},
   "outputs": [],
   "source": [
    "#Diretório do aquivo filtro\n",
    "filter_output = os.path.join(workspace2,'filter_banda3_PB.tif')\n",
    "\n",
    "#Realizar o filtro passa-baixa\n",
    "with arcpy.EnvManager(scratchWorkspace=workspace1, workspace=workspace1):\n",
    "    out_raster = arcpy.sa.Filter(banda3, 'LOW', 'DATA'); out_raster.save(filter_output)"
   ]
  },
  {
   "cell_type": "code",
   "execution_count": 44,
   "metadata": {},
   "outputs": [],
   "source": [
    "#Diretório do aquivo filtro\n",
    "filter_output = os.path.join(workspace2,'filter_banda3_PA.tif')\n",
    "\n",
    "#Realizar o filtro passa-alta\n",
    "with arcpy.EnvManager(scratchWorkspace=workspace1, workspace=workspace1):\n",
    "    out_raster = arcpy.sa.Filter(banda3, 'HIGH', 'DATA'); out_raster.save(filter_output)"
   ]
  },
  {
   "cell_type": "code",
   "execution_count": 45,
   "metadata": {},
   "outputs": [],
   "source": [
    "#Diretório do aquivo convulacional\n",
    "filter_output = os.path.join(workspace2,'laplaciano.tif')\n",
    "\n",
    "#Realizar o filtro passa-baixa\n",
    "laplaciano = arcpy.ia.Convolution(banda3, 16)\n",
    "laplaciano.save(filter_output)"
   ]
  },
  {
   "cell_type": "code",
   "execution_count": null,
   "metadata": {},
   "outputs": [],
   "source": []
  }
 ],
 "metadata": {
  "kernelspec": {
   "display_name": "ArcGISPro",
   "language": "Python",
   "name": "python3"
  },
  "language_info": {
   "file_extension": ".py",
   "name": "python",
   "version": "3"
  }
 },
 "nbformat": 4,
 "nbformat_minor": 2
}
